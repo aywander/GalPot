{
 "cells": [
  {
   "cell_type": "markdown",
   "source": [
    "# Generating the MW potential using McMillan's standalone GalPot and its python wrapper\n",
    "\n",
    "We compare the best model from McMillan (2017, henceforth PJM17) with and without central hole, \n",
    "and create tables for the gravitational potential that can be read by our PLUTO code setup.\n",
    "\n",
    "We also plot the density, surface density, enclosed mass profiles, and rotation curves.\n",
    "\n"
   ],
   "metadata": {
    "collapsed": false
   }
  },
  {
   "cell_type": "code",
   "execution_count": 12,
   "outputs": [],
   "source": [
    "# Some helpful imports\n",
    "import numpy as np\n",
    "import matplotlib.pyplot as plt\n",
    "import scipy.integrate\n",
    "\n",
    "# import mpl_aesth\n",
    "\n",
    "from cycler import cycler\n",
    "\n",
    "plt.style.use('seaborn')\n",
    "\n",
    "use_kpfonts = True\n",
    "\n",
    "\n",
    "dark_mode = True\n",
    "if dark_mode:\n",
    "    fc = 'white'\n",
    "    fc_i = 'black'\n",
    "    fc_n = (1, 1, 1, 0.3)\n",
    "    # TODO: Make the colorpalette below a bit lighter\n",
    "    tableau10_colors = ['006BA4', 'FF800E', 'ABABAB', '595959', '5F9ED1', 'C85200', '898989', 'A2C8EC', 'FFBC79',\n",
    "                        'CFCFCF']\n",
    "else:\n",
    "    fc = 'black'\n",
    "    fc_i = 'white'\n",
    "    fc_n = (0, 0, 0, 0.1)\n",
    "    tableau10_colors = ['006BA4', 'FF800E', 'ABABAB', '595959', '5F9ED1', 'C85200', '898989', 'A2C8EC', 'FFBC79',\n",
    "                        'CFCFCF']\n",
    "\n",
    "plt.rcParams['axes.prop_cycle'] = cycler(color=['#' + s for s in tableau10_colors])\n",
    "\n",
    "plt.rcParams.update({\n",
    "    'text.color': fc,\n",
    "    'axes.labelcolor': fc,\n",
    "    'xtick.color': fc,\n",
    "    'ytick.color': fc,\n",
    "    'xtick.direction': 'in',\n",
    "    'ytick.direction': 'in',\n",
    "    'grid.color': fc_i,\n",
    "    # 'axes.axisbelow': False,\n",
    "    'grid.alpha': 0.5,\n",
    "    'axes.facecolor': fc_n,\n",
    "    # 'axes.grid.which': 'both',\n",
    "    # 'axes.grid.axis': 'both',\n",
    "    'figure.facecolor': (0, 0, 0, 0),\n",
    "    # 'figure.edgecolor': 'black',\n",
    "    'savefig.facecolor': (0, 0, 0, 0),\n",
    "})\n",
    "\n",
    "if use_kpfonts:\n",
    "    plt.rcParams.update({\n",
    "        'font.family': 'serif',\n",
    "        'text.usetex': True,\n",
    "        'text.latex.preamble': [\n",
    "            r'\\usepackage{amsmath}',\n",
    "            r'\\usepackage{amssymb}',\n",
    "            r'\\usepackage{siunitx}',\n",
    "            r'\\usepackage[notextcomp]{kpfonts}',\n",
    "        ],\n",
    "    })\n",
    "\n",
    "else:\n",
    "    plt.rcParams.update({\n",
    "        'font.family': 'serif',\n",
    "        'font.serif': 'Times New Roman',\n",
    "        'font.sans-serif': 'Times New Roman',\n",
    "        'mathtext.fontset': 'cm',\n",
    "    })\n",
    "\n"
   ],
   "metadata": {
    "collapsed": false,
    "pycharm": {
     "name": "#%%\n",
     "is_executing": false
    }
   }
  },
  {
   "cell_type": "markdown",
   "source": [
    "Import GalaxyPotential class"
   ],
   "metadata": {
    "collapsed": false
   }
  },
  {
   "cell_type": "code",
   "execution_count": 13,
   "outputs": [],
   "source": [
    "from GalPot import GalaxyPotential"
   ],
   "metadata": {
    "collapsed": false,
    "pycharm": {
     "name": "#%%\n",
     "is_executing": false
    }
   }
  },
  {
   "cell_type": "markdown",
   "source": [
    "## Calculating the potential\n",
    "\n",
    "Load the potential file"
   ],
   "metadata": {
    "collapsed": false
   }
  },
  {
   "cell_type": "code",
   "execution_count": 14,
   "outputs": [],
   "source": [
    "Phi = GalaxyPotential(\"pot/PJM17_best.Tpot\")\n",
    "Phi_nh = GalaxyPotential(\"pot/PJM17_best_nohole.Tpot\")"
   ],
   "metadata": {
    "collapsed": false,
    "pycharm": {
     "name": "#%%\n",
     "is_executing": false
    }
   }
  },
  {
   "cell_type": "markdown",
   "source": [
    "> Note: All the internal workings are in units M<sub>sun</sub>, kpc, Myr (as in the C++ code).\n",
    "Conversions for velocities can be applied with the helpful GalaxyPotential value kpc_Myr_to_km_s (=977.77)\n"
   ],
   "metadata": {
    "collapsed": false
   }
  },
  {
   "cell_type": "markdown",
   "source": [
    "The domain"
   ],
   "metadata": {
    "collapsed": false
   }
  },
  {
   "cell_type": "code",
   "execution_count": 15,
   "outputs": [],
   "source": [
    "R_arr = np.linspace(0.1,10,100)\n",
    "z_arr = np.linspace(0.1,10,100)"
   ],
   "metadata": {
    "collapsed": false,
    "pycharm": {
     "name": "#%%\n",
     "is_executing": false
    }
   }
  },
  {
   "cell_type": "markdown",
   "source": [
    "Find potential"
   ],
   "metadata": {
    "collapsed": false
   }
  },
  {
   "cell_type": "code",
   "execution_count": 16,
   "outputs": [],
   "source": [
    "# Find Potential\n",
    "phi = Phi.Potential(R_arr, z_arr)\n",
    "vconv = Phi.kpc_Myr_to_km_s"
   ],
   "metadata": {
    "collapsed": false,
    "pycharm": {
     "name": "#%%\n",
     "is_executing": false
    }
   }
  },
  {
   "cell_type": "markdown",
   "source": [
    "Find derivatives wrt R & z of potential"
   ],
   "metadata": {
    "collapsed": false
   }
  },
  {
   "cell_type": "code",
   "execution_count": 17,
   "outputs": [],
   "source": [
    "dphidr = Phi.Potential_derivatives(R_arr, z_arr)"
   ],
   "metadata": {
    "collapsed": false,
    "pycharm": {
     "name": "#%%\n",
     "is_executing": false
    }
   }
  },
  {
   "cell_type": "markdown",
   "source": [
    "Find density as functions of R and z"
   ],
   "metadata": {
    "collapsed": false
   }
  },
  {
   "cell_type": "code",
   "execution_count": 18,
   "outputs": [],
   "source": [
    "rho = Phi.Density(R_arr,z_arr)"
   ],
   "metadata": {
    "collapsed": false,
    "pycharm": {
     "name": "#%%\n",
     "is_executing": false
    }
   }
  },
  {
   "cell_type": "markdown",
   "source": [
    "Find mass within a given radius"
   ],
   "metadata": {
    "collapsed": false
   }
  },
  {
   "cell_type": "code",
   "execution_count": 20,
   "outputs": [],
   "source": [
    "mass = Phi.Mass(R_arr)"
   ],
   "metadata": {
    "collapsed": false,
    "pycharm": {
     "name": "#%%\n",
     "is_executing": false
    }
   }
  },
  {
   "cell_type": "code",
   "execution_count": 21,
   "outputs": [
    {
     "data": {
      "text/plain": "<Figure size 576x396 with 1 Axes>",
      "image/png": "[encoded data removed]"
     },
     "metadata": {
      "needs_background": "dark"
     },
     "output_type": "display_data"
    }
   ],
   "source": [
    "plt.plot(R_arr, Phi.Vcirc(R_arr) * vconv)\n",
    "plt.xlabel('R')\n",
    "plt.ylabel(r'$v_c$')\n",
    "plt.title('Rotation curve')\n",
    "plt.show()"
   ],
   "metadata": {
    "collapsed": false,
    "pycharm": {
     "name": "#%%\n",
     "is_executing": false
    }
   }
  },
  {
   "cell_type": "markdown",
   "source": [
    "## Potential as a function of R,z"
   ],
   "metadata": {
    "collapsed": false
   }
  },
  {
   "cell_type": "code",
   "execution_count": 22,
   "outputs": [
    {
     "data": {
      "text/plain": "<Figure size 576x396 with 2 Axes>",
      "image/png": "[encoded data removed]"
     },
     "metadata": {
      "needs_background": "dark"
     },
     "output_type": "display_data"
    }
   ],
   "source": [
    "RRgrid, ZZgrid = np.meshgrid(R_arr,z_arr)\n",
    "Pot = Phi.Potential(np.array(RRgrid).flatten(),np.array(ZZgrid).flatten())\n",
    "Pot = Pot.reshape((len(R_arr),len(z_arr)))\n",
    "\n",
    "plt.imshow(Pot, origin='lower',extent=[np.min(R_arr), np.max(R_arr), np.min(z_arr), np.max(z_arr)])\n",
    "plt.gca().set_aspect('equal')\n",
    "\n",
    "plt.colorbar(label='Potential')\n",
    "plt.contour(RRgrid,ZZgrid,Pot,colors='k',linewidths=1)\n",
    "plt.xlabel('R')\n",
    "plt.ylabel('z')\n",
    "plt.title('PJM17 best potential')\n",
    "plt.show()\n",
    "\n"
   ],
   "metadata": {
    "collapsed": false,
    "pycharm": {
     "name": "#%%\n",
     "is_executing": false
    }
   }
  }
 ],
 "metadata": {
  "kernelspec": {
   "display_name": "Python 3",
   "language": "python",
   "name": "python3"
  },
  "language_info": {
   "codemirror_mode": {
    "name": "ipython",
    "version": 3
   },
   "file_extension": ".py",
   "mimetype": "text/x-python",
   "name": "python",
   "nbconvert_exporter": "python",
   "pygments_lexer": "ipython3",
   "version": "3.7.3"
  },
  "pycharm": {
   "stem_cell": {
    "cell_type": "raw",
    "source": [],
    "metadata": {
     "collapsed": false
    }
   }
  }
 },
 "nbformat": 4,
 "nbformat_minor": 2
}